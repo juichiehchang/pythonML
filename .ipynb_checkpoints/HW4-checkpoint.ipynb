{
 "cells": [
  {
   "cell_type": "markdown",
   "metadata": {},
   "source": [
    "# “107年上半年造成人員當場或24小時內死亡之交通事故資料”(A1類)分析"
   ]
  },
  {
   "cell_type": "code",
   "execution_count": 100,
   "metadata": {},
   "outputs": [],
   "source": [
    "%matplotlib inline\n",
    "import numpy as np\n",
    "import matplotlib.pyplot as plt\n",
    "import pandas as pd\n",
    "import matplotlib as mpl\n",
    "mpl.rc('font', family='Noto Serif CJK TC')"
   ]
  },
  {
   "cell_type": "markdown",
   "metadata": {},
   "source": [
    "## 1. 讀入並且檢視資料"
   ]
  },
  {
   "cell_type": "code",
   "execution_count": 101,
   "metadata": {},
   "outputs": [
    {
     "data": {
      "text/html": [
       "<div>\n",
       "<style scoped>\n",
       "    .dataframe tbody tr th:only-of-type {\n",
       "        vertical-align: middle;\n",
       "    }\n",
       "\n",
       "    .dataframe tbody tr th {\n",
       "        vertical-align: top;\n",
       "    }\n",
       "\n",
       "    .dataframe thead th {\n",
       "        text-align: right;\n",
       "    }\n",
       "</style>\n",
       "<table border=\"1\" class=\"dataframe\">\n",
       "  <thead>\n",
       "    <tr style=\"text-align: right;\">\n",
       "      <th></th>\n",
       "      <th>發生時間</th>\n",
       "      <th>發生地點</th>\n",
       "      <th>死亡受傷人數</th>\n",
       "      <th>車種</th>\n",
       "      <th>經度</th>\n",
       "      <th>緯度</th>\n",
       "    </tr>\n",
       "  </thead>\n",
       "  <tbody>\n",
       "    <tr>\n",
       "      <th>0</th>\n",
       "      <td>107年01月01日 05時12分00秒</td>\n",
       "      <td>彰化縣大村鄉貢旗村田洋巷7號前0.0公尺東側</td>\n",
       "      <td>死亡1;受傷0</td>\n",
       "      <td>自用-小客車;腳踏自行車-慢車</td>\n",
       "      <td>120.578892</td>\n",
       "      <td>23.962235</td>\n",
       "    </tr>\n",
       "    <tr>\n",
       "      <th>1</th>\n",
       "      <td>107年01月01日 14時55分00秒</td>\n",
       "      <td>桃園市蘆竹區大竹北路418號前0.0公尺北側</td>\n",
       "      <td>死亡1;受傷0</td>\n",
       "      <td>普通輕型-機車</td>\n",
       "      <td>121.244920</td>\n",
       "      <td>25.036777</td>\n",
       "    </tr>\n",
       "    <tr>\n",
       "      <th>2</th>\n",
       "      <td>107年01月01日 17時10分13秒</td>\n",
       "      <td>苗栗縣竹南鎮中美里澎湖厝83號前</td>\n",
       "      <td>死亡1;受傷3</td>\n",
       "      <td>自用-小客車;乘客-人;乘客-人;乘客-人</td>\n",
       "      <td>120.861178</td>\n",
       "      <td>24.682004</td>\n",
       "    </tr>\n",
       "    <tr>\n",
       "      <th>3</th>\n",
       "      <td>107年01月01日 17時30分20秒</td>\n",
       "      <td>南投縣集集鎮投54 6公里西向中內</td>\n",
       "      <td>死亡1;受傷0</td>\n",
       "      <td>普通重型-機車;民營公車-大客車</td>\n",
       "      <td>120.771165</td>\n",
       "      <td>23.827210</td>\n",
       "    </tr>\n",
       "    <tr>\n",
       "      <th>4</th>\n",
       "      <td>107年01月01日 19時30分00秒</td>\n",
       "      <td>彰化縣和美鎮大霞里彰和路3段509號前0.0公尺前</td>\n",
       "      <td>死亡1;受傷0</td>\n",
       "      <td>自用-小客車;行人-人;自用-小客車</td>\n",
       "      <td>120.502953</td>\n",
       "      <td>24.102967</td>\n",
       "    </tr>\n",
       "    <tr>\n",
       "      <th>5</th>\n",
       "      <td>107年01月02日 09時51分00秒</td>\n",
       "      <td>雲林縣虎尾鎮平和橋與防汛道路口</td>\n",
       "      <td>死亡1;受傷0</td>\n",
       "      <td>普通重型-機車;自用-小客車</td>\n",
       "      <td>120.458930</td>\n",
       "      <td>23.700923</td>\n",
       "    </tr>\n",
       "    <tr>\n",
       "      <th>6</th>\n",
       "      <td>107年01月02日 10時00分00秒</td>\n",
       "      <td>桃園市中壢區中豐路北側 / 桃園市中壢區永嘉街</td>\n",
       "      <td>死亡1;受傷1</td>\n",
       "      <td>自用-小客車;普通重型-機車;乘客-人</td>\n",
       "      <td>121.219521</td>\n",
       "      <td>24.959527</td>\n",
       "    </tr>\n",
       "    <tr>\n",
       "      <th>7</th>\n",
       "      <td>107年01月02日 13時34分00秒</td>\n",
       "      <td>新北市樹林區中正路 / 新北市樹林區三俊街</td>\n",
       "      <td>死亡1;受傷0</td>\n",
       "      <td>自用-大貨車;普通重型-機車</td>\n",
       "      <td>121.371249</td>\n",
       "      <td>24.923638</td>\n",
       "    </tr>\n",
       "    <tr>\n",
       "      <th>8</th>\n",
       "      <td>107年01月02日 15時30分59秒</td>\n",
       "      <td>花蓮縣豐濱鄉台11線 67公里40.0公尺處北</td>\n",
       "      <td>死亡1;受傷0</td>\n",
       "      <td>其他車-其他車</td>\n",
       "      <td>121.524078</td>\n",
       "      <td>23.579573</td>\n",
       "    </tr>\n",
       "    <tr>\n",
       "      <th>9</th>\n",
       "      <td>107年01月02日 16時10分00秒</td>\n",
       "      <td>雲林縣元長鄉台19線元進莊路口</td>\n",
       "      <td>死亡1;受傷0</td>\n",
       "      <td>普通重型-機車;民營客運-大客車</td>\n",
       "      <td>120.310998</td>\n",
       "      <td>23.629405</td>\n",
       "    </tr>\n",
       "  </tbody>\n",
       "</table>\n",
       "</div>"
      ],
      "text/plain": [
       "                   發生時間                       發生地點   死亡受傷人數  \\\n",
       "0  107年01月01日 05時12分00秒     彰化縣大村鄉貢旗村田洋巷7號前0.0公尺東側  死亡1;受傷0   \n",
       "1  107年01月01日 14時55分00秒     桃園市蘆竹區大竹北路418號前0.0公尺北側  死亡1;受傷0   \n",
       "2  107年01月01日 17時10分13秒           苗栗縣竹南鎮中美里澎湖厝83號前  死亡1;受傷3   \n",
       "3  107年01月01日 17時30分20秒          南投縣集集鎮投54 6公里西向中內  死亡1;受傷0   \n",
       "4  107年01月01日 19時30分00秒  彰化縣和美鎮大霞里彰和路3段509號前0.0公尺前  死亡1;受傷0   \n",
       "5  107年01月02日 09時51分00秒            雲林縣虎尾鎮平和橋與防汛道路口  死亡1;受傷0   \n",
       "6  107年01月02日 10時00分00秒    桃園市中壢區中豐路北側 / 桃園市中壢區永嘉街  死亡1;受傷1   \n",
       "7  107年01月02日 13時34分00秒      新北市樹林區中正路 / 新北市樹林區三俊街  死亡1;受傷0   \n",
       "8  107年01月02日 15時30分59秒    花蓮縣豐濱鄉台11線 67公里40.0公尺處北  死亡1;受傷0   \n",
       "9  107年01月02日 16時10分00秒            雲林縣元長鄉台19線元進莊路口  死亡1;受傷0   \n",
       "\n",
       "                      車種          經度         緯度  \n",
       "0        自用-小客車;腳踏自行車-慢車  120.578892  23.962235  \n",
       "1                普通輕型-機車  121.244920  25.036777  \n",
       "2  自用-小客車;乘客-人;乘客-人;乘客-人  120.861178  24.682004  \n",
       "3       普通重型-機車;民營公車-大客車  120.771165  23.827210  \n",
       "4     自用-小客車;行人-人;自用-小客車  120.502953  24.102967  \n",
       "5         普通重型-機車;自用-小客車  120.458930  23.700923  \n",
       "6    自用-小客車;普通重型-機車;乘客-人  121.219521  24.959527  \n",
       "7         自用-大貨車;普通重型-機車  121.371249  24.923638  \n",
       "8                其他車-其他車  121.524078  23.579573  \n",
       "9       普通重型-機車;民營客運-大客車  120.310998  23.629405  "
      ]
     },
     "execution_count": 101,
     "metadata": {},
     "output_type": "execute_result"
    }
   ],
   "source": [
    "df = pd.read_csv(\"https://quality.data.gov.tw/dq_download_csv.php?nid=12818&md5_url=d7d787eb0d492bc0f7924241d481874a\")\n",
    "\n",
    "df.head(10)"
   ]
  },
  {
   "cell_type": "markdown",
   "metadata": {},
   "source": [
    "## 2. 嘗試依據經緯度畫出散布圖"
   ]
  },
  {
   "cell_type": "code",
   "execution_count": 102,
   "metadata": {},
   "outputs": [
    {
     "data": {
      "image/png": "[encoded data removed]",
      "text/plain": [
       "<Figure size 432x288 with 1 Axes>"
      ]
     },
     "metadata": {
      "needs_background": "light"
     },
     "output_type": "display_data"
    }
   ],
   "source": [
    "plt.scatter(x=df['經度'], y=df['緯度'])\n",
    "plt.show()"
   ]
  },
  {
   "cell_type": "markdown",
   "metadata": {},
   "source": [
    "### 在不正常的經緯度(緯度>120??)的地方有數據，推測是數據有誤"
   ]
  },
  {
   "cell_type": "code",
   "execution_count": 103,
   "metadata": {},
   "outputs": [
    {
     "data": {
      "text/html": [
       "<div>\n",
       "<style scoped>\n",
       "    .dataframe tbody tr th:only-of-type {\n",
       "        vertical-align: middle;\n",
       "    }\n",
       "\n",
       "    .dataframe tbody tr th {\n",
       "        vertical-align: top;\n",
       "    }\n",
       "\n",
       "    .dataframe thead th {\n",
       "        text-align: right;\n",
       "    }\n",
       "</style>\n",
       "<table border=\"1\" class=\"dataframe\">\n",
       "  <thead>\n",
       "    <tr style=\"text-align: right;\">\n",
       "      <th></th>\n",
       "      <th>發生時間</th>\n",
       "      <th>發生地點</th>\n",
       "      <th>死亡受傷人數</th>\n",
       "      <th>車種</th>\n",
       "      <th>經度</th>\n",
       "      <th>緯度</th>\n",
       "    </tr>\n",
       "  </thead>\n",
       "  <tbody>\n",
       "    <tr>\n",
       "      <th>11</th>\n",
       "      <td>107年01月02日 16時29分00秒</td>\n",
       "      <td>臺中市東區旱溪里旱溪街前0.0公尺</td>\n",
       "      <td>死亡1;受傷1</td>\n",
       "      <td>普通重型-機車;普通重型-機車</td>\n",
       "      <td>24.140329</td>\n",
       "      <td>120.696681</td>\n",
       "    </tr>\n",
       "  </tbody>\n",
       "</table>\n",
       "</div>"
      ],
      "text/plain": [
       "                    發生時間               發生地點   死亡受傷人數               車種  \\\n",
       "11  107年01月02日 16時29分00秒  臺中市東區旱溪里旱溪街前0.0公尺  死亡1;受傷1  普通重型-機車;普通重型-機車   \n",
       "\n",
       "           經度          緯度  \n",
       "11  24.140329  120.696681  "
      ]
     },
     "execution_count": 103,
     "metadata": {},
     "output_type": "execute_result"
    }
   ],
   "source": [
    "df[df['緯度']>120]"
   ]
  },
  {
   "cell_type": "markdown",
   "metadata": {},
   "source": [
    "### \"發生地點\"為台中市，推測是經緯度弄反了，將經度和緯度互換回來"
   ]
  },
  {
   "cell_type": "code",
   "execution_count": 104,
   "metadata": {},
   "outputs": [],
   "source": [
    "df.loc[11, '經度'], df.loc[11, '緯度'] = df.loc[11, '緯度'], df.loc[11, '經度']"
   ]
  },
  {
   "cell_type": "markdown",
   "metadata": {},
   "source": [
    "### 重新繪圖"
   ]
  },
  {
   "cell_type": "code",
   "execution_count": 105,
   "metadata": {},
   "outputs": [
    {
     "data": {
      "image/png": "[encoded data removed]",
      "text/plain": [
       "<Figure size 432x288 with 1 Axes>"
      ]
     },
     "metadata": {
      "needs_background": "light"
     },
     "output_type": "display_data"
    }
   ],
   "source": [
    "import matplotlib.pyplot as plt\n",
    "plt.scatter(x=df['經度'], y=df['緯度'], color='r');\n",
    "plt.xlabel('Longitide')\n",
    "plt.ylabel('Latitude')\n",
    "plt.title('Scatter plot of fatal car accidents in Taiwan');\n",
    "plt.grid(True);"
   ]
  },
  {
   "cell_type": "markdown",
   "metadata": {},
   "source": [
    "### 可以看出傷亡事件大部份發生在人口較密集，交通較便利的地方"
   ]
  },
  {
   "cell_type": "markdown",
   "metadata": {},
   "source": [
    "### 去除不必要的資料"
   ]
  },
  {
   "cell_type": "code",
   "execution_count": 106,
   "metadata": {},
   "outputs": [
    {
     "data": {
      "text/html": [
       "<div>\n",
       "<style scoped>\n",
       "    .dataframe tbody tr th:only-of-type {\n",
       "        vertical-align: middle;\n",
       "    }\n",
       "\n",
       "    .dataframe tbody tr th {\n",
       "        vertical-align: top;\n",
       "    }\n",
       "\n",
       "    .dataframe thead th {\n",
       "        text-align: right;\n",
       "    }\n",
       "</style>\n",
       "<table border=\"1\" class=\"dataframe\">\n",
       "  <thead>\n",
       "    <tr style=\"text-align: right;\">\n",
       "      <th></th>\n",
       "      <th>發生時間</th>\n",
       "      <th>發生地點</th>\n",
       "      <th>死亡受傷人數</th>\n",
       "      <th>車種</th>\n",
       "      <th>經度</th>\n",
       "      <th>緯度</th>\n",
       "    </tr>\n",
       "  </thead>\n",
       "  <tbody>\n",
       "    <tr>\n",
       "      <th>700</th>\n",
       "      <td>107年07月15日 00時50分00秒</td>\n",
       "      <td>雲林縣大埤鄉溝心路北門59號電桿</td>\n",
       "      <td>死亡1;受傷1</td>\n",
       "      <td>普通重型-機車;乘客-人</td>\n",
       "      <td>120.431110</td>\n",
       "      <td>23.668296</td>\n",
       "    </tr>\n",
       "    <tr>\n",
       "      <th>701</th>\n",
       "      <td>107年07月15日 12時22分00秒</td>\n",
       "      <td>嘉義縣水上鄉南和村163線14公里200公尺處東向車道</td>\n",
       "      <td>死亡1;受傷3</td>\n",
       "      <td>自用-小客車;自用-小貨車(含客、貨兩用);乘客-人;乘客-人</td>\n",
       "      <td>120.363564</td>\n",
       "      <td>23.410225</td>\n",
       "    </tr>\n",
       "    <tr>\n",
       "      <th>702</th>\n",
       "      <td>107年07月15日 19時57分00秒</td>\n",
       "      <td>花蓮縣秀林鄉崇德村崇德144之1號前</td>\n",
       "      <td>死亡1;受傷0</td>\n",
       "      <td>行人-人;自用-小客車;乘客-人</td>\n",
       "      <td>121.648875</td>\n",
       "      <td>24.151228</td>\n",
       "    </tr>\n",
       "    <tr>\n",
       "      <th>703</th>\n",
       "      <td>資料提供日期：107年07月23日</td>\n",
       "      <td>NaN</td>\n",
       "      <td>NaN</td>\n",
       "      <td>NaN</td>\n",
       "      <td>NaN</td>\n",
       "      <td>NaN</td>\n",
       "    </tr>\n",
       "    <tr>\n",
       "      <th>704</th>\n",
       "      <td>事故類別：A1類</td>\n",
       "      <td>NaN</td>\n",
       "      <td>NaN</td>\n",
       "      <td>NaN</td>\n",
       "      <td>NaN</td>\n",
       "      <td>NaN</td>\n",
       "    </tr>\n",
       "  </tbody>\n",
       "</table>\n",
       "</div>"
      ],
      "text/plain": [
       "                     發生時間                         發生地點   死亡受傷人數  \\\n",
       "700  107年07月15日 00時50分00秒             雲林縣大埤鄉溝心路北門59號電桿  死亡1;受傷1   \n",
       "701  107年07月15日 12時22分00秒  嘉義縣水上鄉南和村163線14公里200公尺處東向車道  死亡1;受傷3   \n",
       "702  107年07月15日 19時57分00秒           花蓮縣秀林鄉崇德村崇德144之1號前  死亡1;受傷0   \n",
       "703     資料提供日期：107年07月23日                          NaN      NaN   \n",
       "704              事故類別：A1類                          NaN      NaN   \n",
       "\n",
       "                                  車種          經度         緯度  \n",
       "700                     普通重型-機車;乘客-人  120.431110  23.668296  \n",
       "701  自用-小客車;自用-小貨車(含客、貨兩用);乘客-人;乘客-人  120.363564  23.410225  \n",
       "702                 行人-人;自用-小客車;乘客-人  121.648875  24.151228  \n",
       "703                              NaN         NaN        NaN  \n",
       "704                              NaN         NaN        NaN  "
      ]
     },
     "execution_count": 106,
     "metadata": {},
     "output_type": "execute_result"
    }
   ],
   "source": [
    "df.tail()"
   ]
  },
  {
   "cell_type": "code",
   "execution_count": 107,
   "metadata": {},
   "outputs": [
    {
     "data": {
      "text/html": [
       "<div>\n",
       "<style scoped>\n",
       "    .dataframe tbody tr th:only-of-type {\n",
       "        vertical-align: middle;\n",
       "    }\n",
       "\n",
       "    .dataframe tbody tr th {\n",
       "        vertical-align: top;\n",
       "    }\n",
       "\n",
       "    .dataframe thead th {\n",
       "        text-align: right;\n",
       "    }\n",
       "</style>\n",
       "<table border=\"1\" class=\"dataframe\">\n",
       "  <thead>\n",
       "    <tr style=\"text-align: right;\">\n",
       "      <th></th>\n",
       "      <th>發生時間</th>\n",
       "      <th>發生地點</th>\n",
       "      <th>死亡受傷人數</th>\n",
       "      <th>車種</th>\n",
       "      <th>經度</th>\n",
       "      <th>緯度</th>\n",
       "    </tr>\n",
       "  </thead>\n",
       "  <tbody>\n",
       "    <tr>\n",
       "      <th>698</th>\n",
       "      <td>107年07月14日 18時32分00秒</td>\n",
       "      <td>嘉義縣太保市東勢里信義二路與博愛路口</td>\n",
       "      <td>死亡1;受傷2</td>\n",
       "      <td>自用-小客車;普通重型-機車;乘客-人</td>\n",
       "      <td>120.296705</td>\n",
       "      <td>23.464592</td>\n",
       "    </tr>\n",
       "    <tr>\n",
       "      <th>699</th>\n",
       "      <td>107年07月14日 23時15分36秒</td>\n",
       "      <td>南投縣名間鄉名松路1段237號東側</td>\n",
       "      <td>死亡1;受傷0</td>\n",
       "      <td>普通重型-機車</td>\n",
       "      <td>120.669773</td>\n",
       "      <td>23.837590</td>\n",
       "    </tr>\n",
       "    <tr>\n",
       "      <th>700</th>\n",
       "      <td>107年07月15日 00時50分00秒</td>\n",
       "      <td>雲林縣大埤鄉溝心路北門59號電桿</td>\n",
       "      <td>死亡1;受傷1</td>\n",
       "      <td>普通重型-機車;乘客-人</td>\n",
       "      <td>120.431110</td>\n",
       "      <td>23.668296</td>\n",
       "    </tr>\n",
       "    <tr>\n",
       "      <th>701</th>\n",
       "      <td>107年07月15日 12時22分00秒</td>\n",
       "      <td>嘉義縣水上鄉南和村163線14公里200公尺處東向車道</td>\n",
       "      <td>死亡1;受傷3</td>\n",
       "      <td>自用-小客車;自用-小貨車(含客、貨兩用);乘客-人;乘客-人</td>\n",
       "      <td>120.363564</td>\n",
       "      <td>23.410225</td>\n",
       "    </tr>\n",
       "    <tr>\n",
       "      <th>702</th>\n",
       "      <td>107年07月15日 19時57分00秒</td>\n",
       "      <td>花蓮縣秀林鄉崇德村崇德144之1號前</td>\n",
       "      <td>死亡1;受傷0</td>\n",
       "      <td>行人-人;自用-小客車;乘客-人</td>\n",
       "      <td>121.648875</td>\n",
       "      <td>24.151228</td>\n",
       "    </tr>\n",
       "  </tbody>\n",
       "</table>\n",
       "</div>"
      ],
      "text/plain": [
       "                     發生時間                         發生地點   死亡受傷人數  \\\n",
       "698  107年07月14日 18時32分00秒           嘉義縣太保市東勢里信義二路與博愛路口  死亡1;受傷2   \n",
       "699  107年07月14日 23時15分36秒            南投縣名間鄉名松路1段237號東側  死亡1;受傷0   \n",
       "700  107年07月15日 00時50分00秒             雲林縣大埤鄉溝心路北門59號電桿  死亡1;受傷1   \n",
       "701  107年07月15日 12時22分00秒  嘉義縣水上鄉南和村163線14公里200公尺處東向車道  死亡1;受傷3   \n",
       "702  107年07月15日 19時57分00秒           花蓮縣秀林鄉崇德村崇德144之1號前  死亡1;受傷0   \n",
       "\n",
       "                                  車種          經度         緯度  \n",
       "698              自用-小客車;普通重型-機車;乘客-人  120.296705  23.464592  \n",
       "699                          普通重型-機車  120.669773  23.837590  \n",
       "700                     普通重型-機車;乘客-人  120.431110  23.668296  \n",
       "701  自用-小客車;自用-小貨車(含客、貨兩用);乘客-人;乘客-人  120.363564  23.410225  \n",
       "702                 行人-人;自用-小客車;乘客-人  121.648875  24.151228  "
      ]
     },
     "execution_count": 107,
     "metadata": {},
     "output_type": "execute_result"
    }
   ],
   "source": [
    "df = df[0:703]\n",
    "df.tail()"
   ]
  },
  {
   "cell_type": "markdown",
   "metadata": {},
   "source": [
    "## 2. 分離死亡人數以及受傷人數"
   ]
  },
  {
   "cell_type": "code",
   "execution_count": 108,
   "metadata": {},
   "outputs": [
    {
     "data": {
      "text/html": [
       "<div>\n",
       "<style scoped>\n",
       "    .dataframe tbody tr th:only-of-type {\n",
       "        vertical-align: middle;\n",
       "    }\n",
       "\n",
       "    .dataframe tbody tr th {\n",
       "        vertical-align: top;\n",
       "    }\n",
       "\n",
       "    .dataframe thead th {\n",
       "        text-align: right;\n",
       "    }\n",
       "</style>\n",
       "<table border=\"1\" class=\"dataframe\">\n",
       "  <thead>\n",
       "    <tr style=\"text-align: right;\">\n",
       "      <th></th>\n",
       "      <th>發生時間</th>\n",
       "      <th>發生地點</th>\n",
       "      <th>死亡受傷人數</th>\n",
       "      <th>死亡人數</th>\n",
       "      <th>受傷人數</th>\n",
       "      <th>車種</th>\n",
       "      <th>經度</th>\n",
       "      <th>緯度</th>\n",
       "    </tr>\n",
       "  </thead>\n",
       "  <tbody>\n",
       "    <tr>\n",
       "      <th>0</th>\n",
       "      <td>107年01月01日 05時12分00秒</td>\n",
       "      <td>彰化縣大村鄉貢旗村田洋巷7號前0.0公尺東側</td>\n",
       "      <td>死亡1;受傷0</td>\n",
       "      <td>1</td>\n",
       "      <td>0</td>\n",
       "      <td>自用-小客車;腳踏自行車-慢車</td>\n",
       "      <td>120.578892</td>\n",
       "      <td>23.962235</td>\n",
       "    </tr>\n",
       "    <tr>\n",
       "      <th>1</th>\n",
       "      <td>107年01月01日 14時55分00秒</td>\n",
       "      <td>桃園市蘆竹區大竹北路418號前0.0公尺北側</td>\n",
       "      <td>死亡1;受傷0</td>\n",
       "      <td>1</td>\n",
       "      <td>0</td>\n",
       "      <td>普通輕型-機車</td>\n",
       "      <td>121.244920</td>\n",
       "      <td>25.036777</td>\n",
       "    </tr>\n",
       "    <tr>\n",
       "      <th>2</th>\n",
       "      <td>107年01月01日 17時10分13秒</td>\n",
       "      <td>苗栗縣竹南鎮中美里澎湖厝83號前</td>\n",
       "      <td>死亡1;受傷3</td>\n",
       "      <td>1</td>\n",
       "      <td>3</td>\n",
       "      <td>自用-小客車;乘客-人;乘客-人;乘客-人</td>\n",
       "      <td>120.861178</td>\n",
       "      <td>24.682004</td>\n",
       "    </tr>\n",
       "    <tr>\n",
       "      <th>3</th>\n",
       "      <td>107年01月01日 17時30分20秒</td>\n",
       "      <td>南投縣集集鎮投54 6公里西向中內</td>\n",
       "      <td>死亡1;受傷0</td>\n",
       "      <td>1</td>\n",
       "      <td>0</td>\n",
       "      <td>普通重型-機車;民營公車-大客車</td>\n",
       "      <td>120.771165</td>\n",
       "      <td>23.827210</td>\n",
       "    </tr>\n",
       "    <tr>\n",
       "      <th>4</th>\n",
       "      <td>107年01月01日 19時30分00秒</td>\n",
       "      <td>彰化縣和美鎮大霞里彰和路3段509號前0.0公尺前</td>\n",
       "      <td>死亡1;受傷0</td>\n",
       "      <td>1</td>\n",
       "      <td>0</td>\n",
       "      <td>自用-小客車;行人-人;自用-小客車</td>\n",
       "      <td>120.502953</td>\n",
       "      <td>24.102967</td>\n",
       "    </tr>\n",
       "    <tr>\n",
       "      <th>5</th>\n",
       "      <td>107年01月02日 09時51分00秒</td>\n",
       "      <td>雲林縣虎尾鎮平和橋與防汛道路口</td>\n",
       "      <td>死亡1;受傷0</td>\n",
       "      <td>1</td>\n",
       "      <td>0</td>\n",
       "      <td>普通重型-機車;自用-小客車</td>\n",
       "      <td>120.458930</td>\n",
       "      <td>23.700923</td>\n",
       "    </tr>\n",
       "    <tr>\n",
       "      <th>6</th>\n",
       "      <td>107年01月02日 10時00分00秒</td>\n",
       "      <td>桃園市中壢區中豐路北側 / 桃園市中壢區永嘉街</td>\n",
       "      <td>死亡1;受傷1</td>\n",
       "      <td>1</td>\n",
       "      <td>1</td>\n",
       "      <td>自用-小客車;普通重型-機車;乘客-人</td>\n",
       "      <td>121.219521</td>\n",
       "      <td>24.959527</td>\n",
       "    </tr>\n",
       "    <tr>\n",
       "      <th>7</th>\n",
       "      <td>107年01月02日 13時34分00秒</td>\n",
       "      <td>新北市樹林區中正路 / 新北市樹林區三俊街</td>\n",
       "      <td>死亡1;受傷0</td>\n",
       "      <td>1</td>\n",
       "      <td>0</td>\n",
       "      <td>自用-大貨車;普通重型-機車</td>\n",
       "      <td>121.371249</td>\n",
       "      <td>24.923638</td>\n",
       "    </tr>\n",
       "    <tr>\n",
       "      <th>8</th>\n",
       "      <td>107年01月02日 15時30分59秒</td>\n",
       "      <td>花蓮縣豐濱鄉台11線 67公里40.0公尺處北</td>\n",
       "      <td>死亡1;受傷0</td>\n",
       "      <td>1</td>\n",
       "      <td>0</td>\n",
       "      <td>其他車-其他車</td>\n",
       "      <td>121.524078</td>\n",
       "      <td>23.579573</td>\n",
       "    </tr>\n",
       "    <tr>\n",
       "      <th>9</th>\n",
       "      <td>107年01月02日 16時10分00秒</td>\n",
       "      <td>雲林縣元長鄉台19線元進莊路口</td>\n",
       "      <td>死亡1;受傷0</td>\n",
       "      <td>1</td>\n",
       "      <td>0</td>\n",
       "      <td>普通重型-機車;民營客運-大客車</td>\n",
       "      <td>120.310998</td>\n",
       "      <td>23.629405</td>\n",
       "    </tr>\n",
       "  </tbody>\n",
       "</table>\n",
       "</div>"
      ],
      "text/plain": [
       "                   發生時間                       發生地點   死亡受傷人數  死亡人數  受傷人數  \\\n",
       "0  107年01月01日 05時12分00秒     彰化縣大村鄉貢旗村田洋巷7號前0.0公尺東側  死亡1;受傷0     1     0   \n",
       "1  107年01月01日 14時55分00秒     桃園市蘆竹區大竹北路418號前0.0公尺北側  死亡1;受傷0     1     0   \n",
       "2  107年01月01日 17時10分13秒           苗栗縣竹南鎮中美里澎湖厝83號前  死亡1;受傷3     1     3   \n",
       "3  107年01月01日 17時30分20秒          南投縣集集鎮投54 6公里西向中內  死亡1;受傷0     1     0   \n",
       "4  107年01月01日 19時30分00秒  彰化縣和美鎮大霞里彰和路3段509號前0.0公尺前  死亡1;受傷0     1     0   \n",
       "5  107年01月02日 09時51分00秒            雲林縣虎尾鎮平和橋與防汛道路口  死亡1;受傷0     1     0   \n",
       "6  107年01月02日 10時00分00秒    桃園市中壢區中豐路北側 / 桃園市中壢區永嘉街  死亡1;受傷1     1     1   \n",
       "7  107年01月02日 13時34分00秒      新北市樹林區中正路 / 新北市樹林區三俊街  死亡1;受傷0     1     0   \n",
       "8  107年01月02日 15時30分59秒    花蓮縣豐濱鄉台11線 67公里40.0公尺處北  死亡1;受傷0     1     0   \n",
       "9  107年01月02日 16時10分00秒            雲林縣元長鄉台19線元進莊路口  死亡1;受傷0     1     0   \n",
       "\n",
       "                      車種          經度         緯度  \n",
       "0        自用-小客車;腳踏自行車-慢車  120.578892  23.962235  \n",
       "1                普通輕型-機車  121.244920  25.036777  \n",
       "2  自用-小客車;乘客-人;乘客-人;乘客-人  120.861178  24.682004  \n",
       "3       普通重型-機車;民營公車-大客車  120.771165  23.827210  \n",
       "4     自用-小客車;行人-人;自用-小客車  120.502953  24.102967  \n",
       "5         普通重型-機車;自用-小客車  120.458930  23.700923  \n",
       "6    自用-小客車;普通重型-機車;乘客-人  121.219521  24.959527  \n",
       "7         自用-大貨車;普通重型-機車  121.371249  24.923638  \n",
       "8                其他車-其他車  121.524078  23.579573  \n",
       "9       普通重型-機車;民營客運-大客車  120.310998  23.629405  "
      ]
     },
     "execution_count": 108,
     "metadata": {},
     "output_type": "execute_result"
    }
   ],
   "source": [
    "import re\n",
    "# 利用regex分離死亡人數以及受傷人數\n",
    "df.insert(3, '死亡人數', df['死亡受傷人數'].apply(lambda string: (re.findall(r'\\d+', string))[0]).astype(int));\n",
    "df.insert(4, '受傷人數', df['死亡受傷人數'].apply(lambda string: (re.findall(r'\\d+', string))[1]).astype(int));\n",
    "\n",
    "df.head(10)"
   ]
  },
  {
   "cell_type": "markdown",
   "metadata": {},
   "source": [
    "## 3. 統計每月死亡和受傷人數"
   ]
  },
  {
   "cell_type": "code",
   "execution_count": 109,
   "metadata": {},
   "outputs": [
    {
     "data": {
      "text/html": [
       "<div>\n",
       "<style scoped>\n",
       "    .dataframe tbody tr th:only-of-type {\n",
       "        vertical-align: middle;\n",
       "    }\n",
       "\n",
       "    .dataframe tbody tr th {\n",
       "        vertical-align: top;\n",
       "    }\n",
       "\n",
       "    .dataframe thead th {\n",
       "        text-align: right;\n",
       "    }\n",
       "</style>\n",
       "<table border=\"1\" class=\"dataframe\">\n",
       "  <thead>\n",
       "    <tr style=\"text-align: right;\">\n",
       "      <th></th>\n",
       "      <th>Month</th>\n",
       "      <th>Death</th>\n",
       "      <th>Injured</th>\n",
       "    </tr>\n",
       "  </thead>\n",
       "  <tbody>\n",
       "    <tr>\n",
       "      <th>0</th>\n",
       "      <td>1</td>\n",
       "      <td>128</td>\n",
       "      <td>52</td>\n",
       "    </tr>\n",
       "    <tr>\n",
       "      <th>1</th>\n",
       "      <td>2</td>\n",
       "      <td>82</td>\n",
       "      <td>58</td>\n",
       "    </tr>\n",
       "    <tr>\n",
       "      <th>2</th>\n",
       "      <td>3</td>\n",
       "      <td>121</td>\n",
       "      <td>62</td>\n",
       "    </tr>\n",
       "    <tr>\n",
       "      <th>3</th>\n",
       "      <td>4</td>\n",
       "      <td>118</td>\n",
       "      <td>44</td>\n",
       "    </tr>\n",
       "    <tr>\n",
       "      <th>4</th>\n",
       "      <td>5</td>\n",
       "      <td>113</td>\n",
       "      <td>35</td>\n",
       "    </tr>\n",
       "    <tr>\n",
       "      <th>5</th>\n",
       "      <td>6</td>\n",
       "      <td>126</td>\n",
       "      <td>42</td>\n",
       "    </tr>\n",
       "    <tr>\n",
       "      <th>6</th>\n",
       "      <td>7</td>\n",
       "      <td>32</td>\n",
       "      <td>19</td>\n",
       "    </tr>\n",
       "  </tbody>\n",
       "</table>\n",
       "</div>"
      ],
      "text/plain": [
       "  Month Death Injured\n",
       "0     1   128      52\n",
       "1     2    82      58\n",
       "2     3   121      62\n",
       "3     4   118      44\n",
       "4     5   113      35\n",
       "5     6   126      42\n",
       "6     7    32      19"
      ]
     },
     "execution_count": 109,
     "metadata": {},
     "output_type": "execute_result"
    }
   ],
   "source": [
    "time_death_injured_df = pd.DataFrame(columns=['Month', 'Death', 'Injured'])\n",
    "\n",
    "for i in range(0, 7):\n",
    "    # 得到每月的資料\n",
    "    current_month_df = df[df['發生時間'].apply(lambda string: (re.findall(r'\\d+', string))[1]).astype(int) == i+1]\n",
    "    # 統計人數\n",
    "    time_death_injured_df.loc[i] = [i + 1, current_month_df['死亡人數'].sum(), current_month_df['受傷人數'].sum()]\n",
    "    \n",
    "time_death_injured_df.head(7)"
   ]
  },
  {
   "cell_type": "markdown",
   "metadata": {},
   "source": [
    "## 4. 將死亡和受傷人數繪製為長條圖"
   ]
  },
  {
   "cell_type": "code",
   "execution_count": 110,
   "metadata": {},
   "outputs": [
    {
     "data": {
      "image/png": "[encoded data removed]",
      "text/plain": [
       "<Figure size 432x288 with 1 Axes>"
      ]
     },
     "metadata": {
      "needs_background": "light"
     },
     "output_type": "display_data"
    }
   ],
   "source": [
    "time_death_injured_df.plot(x='Month', y=['Death', 'Injured'], color=['r', 'b'], kind='bar', title='Count of death and injured caused by car accident');"
   ]
  },
  {
   "cell_type": "markdown",
   "metadata": {},
   "source": [
    "### 除了二月死亡人數明顯較少，其他月份之間的傷亡人數並無太大的差異\n",
    "### (7月只包含了上半月的資料，所以死亡和受傷人數明顯較少)"
   ]
  },
  {
   "cell_type": "code",
   "execution_count": null,
   "metadata": {},
   "outputs": [],
   "source": []
  }
 ],
 "metadata": {
  "kernelspec": {
   "display_name": "Python 3",
   "language": "python",
   "name": "python3"
  },
  "language_info": {
   "codemirror_mode": {
    "name": "ipython",
    "version": 3
   },
   "file_extension": ".py",
   "mimetype": "text/x-python",
   "name": "python",
   "nbconvert_exporter": "python",
   "pygments_lexer": "ipython3",
   "version": "3.6.5"
  }
 },
 "nbformat": 4,
 "nbformat_minor": 2
}
