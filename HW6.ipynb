{
 "cells": [
  {
   "cell_type": "markdown",
   "metadata": {},
   "source": [
    "# 利用gradient descent 找出單一變數函數中的minimum"
   ]
  },
  {
   "cell_type": "markdown",
   "metadata": {},
   "source": [
    "## 1. 載入套件"
   ]
  },
  {
   "cell_type": "code",
   "execution_count": 2,
   "metadata": {},
   "outputs": [],
   "source": [
    "%matplotlib inline\n",
    "from ipywidgets import interact, fixed\n",
    "import numpy as np\n",
    "import matplotlib.pyplot as plt\n",
    "import math"
   ]
  },
  {
   "cell_type": "markdown",
   "metadata": {},
   "source": [
    "## 2. 產生函數 這邊假設 $f(x) = (x - 4)(3x - 2)(x + 2)(x + 4)$ 並畫出函數圖形"
   ]
  },
  {
   "cell_type": "code",
   "execution_count": 3,
   "metadata": {},
   "outputs": [
    {
     "data": {
      "image/png": "[encoded data removed]",
      "text/plain": [
       "<Figure size 432x288 with 1 Axes>"
      ]
     },
     "metadata": {
      "needs_background": "light"
     },
     "output_type": "display_data"
    }
   ],
   "source": [
    "x = np.linspace(-5, 5, 100)\n",
    "y = (x - 4) * (3*x - 2) * (x + 2) * (x + 4)\n",
    "\n",
    "plt.plot(x, y);\n",
    "plt.xlabel(\"x\");\n",
    "plt.ylabel(\"y\");\n",
    "plt.title(\"plot of f(x)\");"
   ]
  },
  {
   "cell_type": "markdown",
   "metadata": {},
   "source": [
    "## 3. 算出 $f'(x) = 12x^3 + 12x^2 - 104x - 64$ 並定義gradient descent 函式"
   ]
  },
  {
   "cell_type": "code",
   "execution_count": 4,
   "metadata": {},
   "outputs": [],
   "source": [
    "def gradient_descent(x, n):\n",
    "    x -= n * (12 * math.pow(x, 3) + 12 * math.pow(x, 2) - 104 * x - 64)\n",
    "    return x"
   ]
  },
  {
   "cell_type": "markdown",
   "metadata": {},
   "source": [
    "## 4. 定義find_min根據x初始值開始帶入gradient_descent 尋找minimum(learning rate =                    0.005)"
   ]
  },
  {
   "cell_type": "code",
   "execution_count": 5,
   "metadata": {},
   "outputs": [],
   "source": [
    "def find_min(start_x, try_times):\n",
    "    # history 紀錄過去嘗試過的x\n",
    "    history = []\n",
    "    # learning rate = 0.005\n",
    "    n = 0.005\n",
    "    \n",
    "    for i in range(0, try_times):\n",
    "        history += [start_x]\n",
    "        start_x = gradient_descent(start_x, n)\n",
    "        \n",
    "    return history"
   ]
  },
  {
   "cell_type": "markdown",
   "metadata": {},
   "source": [
    "## 5. 隨機生成x初始值，帶入draw_process看出gradient_descent的過程與結果\n",
    "### (jupyter notebook viewer 無法使用interact)"
   ]
  },
  {
   "cell_type": "code",
   "execution_count": 14,
   "metadata": {},
   "outputs": [
    {
     "data": {
      "application/vnd.jupyter.widget-view+json": {
       "model_id": "82a9acd8f8c04ca99eaca5543c6361d5",
       "version_major": 2,
       "version_minor": 0
      },
      "text/plain": [
       "interactive(children=(IntSlider(value=5, description='try_times', max=20, min=1), Output()), _dom_classes=('wi…"
      ]
     },
     "metadata": {},
     "output_type": "display_data"
    },
    {
     "data": {
      "text/plain": [
       "<function __main__.draw_process(start_x, try_times=5)>"
      ]
     },
     "execution_count": 14,
     "metadata": {},
     "output_type": "execute_result"
    }
   ],
   "source": [
    "start_x = np.random.uniform(-5, 5)\n",
    "\n",
    "def draw_process(start_x, try_times = 5):\n",
    "    print(\"starting from x = \", start_x)\n",
    "    # 先畫出函數圖形\n",
    "    plt.plot(x, y, c = 'b');\n",
    "    plt.xlabel(\"x\");\n",
    "    plt.ylabel(\"y\");\n",
    "    plt.title(\"plot of f(x)\");\n",
    "    \n",
    "    # 印出gradient descent中各個點的座標\n",
    "    X = np.array(find_min(start_x, try_times))\n",
    "    Y = (X - 4) * (3*X - 2) * (X + 2) * (X + 4)\n",
    "    print(\"\\n(x, y) positions are: \\n\")\n",
    "    print(np.c_[X, Y])\n",
    "    \n",
    "    # 畫出gradient descent中的各個點(由淺到深)\n",
    "    alphas = np.linspace(0.1, 1, len(X))\n",
    "    rgba_colors = np.zeros((len(X),4))\n",
    "    rgba_colors[:, 0] = 1.0\n",
    "    rgba_colors[:, 3] = alphas\n",
    "    plt.scatter(X, Y, color = rgba_colors);\n",
    "    \n",
    "    # 以十字標示出local min的點\n",
    "    plt.axvline(x=X[len(X) - 1], c = 'r')\n",
    "    plt.axhline(y=Y[len(X) - 1], c = 'r')\n",
    "\n",
    "# 使用interact 決定gradient descent計算次數\n",
    "interact(draw_process, start_x = fixed(start_x), try_times = (1, 20))"
   ]
  },
  {
   "cell_type": "markdown",
   "metadata": {},
   "source": [
    "## 6. 自行嘗試各種初始x並找出minimum"
   ]
  },
  {
   "cell_type": "code",
   "execution_count": 16,
   "metadata": {},
   "outputs": [
    {
     "name": "stdout",
     "output_type": "stream",
     "text": [
      "starting from x =  -1\n",
      "\n",
      "(x, y) positions are: \n",
      "\n",
      "[[ -1.          75.        ]\n",
      " [ -1.2         65.2288    ]\n",
      " [ -1.48672     45.72474473]\n",
      " [ -1.87526551  11.87418882]\n",
      " [ -2.34572496 -32.79837921]\n",
      " [ -2.80121685 -67.9615199 ]\n",
      " [ -3.0898206  -79.25386235]\n",
      " [ -3.17943736 -80.17137131]\n",
      " [ -3.19085214 -80.18541789]\n",
      " [ -3.19172068 -80.1854986 ]]\n"
     ]
    },
    {
     "data": {
      "image/png": "[encoded data removed]",
      "text/plain": [
       "<Figure size 432x288 with 1 Axes>"
      ]
     },
     "metadata": {
      "needs_background": "light"
     },
     "output_type": "display_data"
    }
   ],
   "source": [
    "draw_process(-1, try_times = 10)"
   ]
  },
  {
   "cell_type": "markdown",
   "metadata": {},
   "source": [
    "### 以上圖形在初始x = -1時找到了local minimum"
   ]
  },
  {
   "cell_type": "code",
   "execution_count": 17,
   "metadata": {},
   "outputs": [
    {
     "name": "stdout",
     "output_type": "stream",
     "text": [
      "starting from x =  -0.5\n",
      "\n",
      "(x, y) positions are: \n",
      "\n",
      "[[-5.00000000e-01  8.26875000e+01]\n",
      " [-4.47500000e-01  8.19885240e+01]\n",
      " [-3.66838495e-01  8.03368638e+01]\n",
      " [-2.42706803e-01  7.64233144e+01]\n",
      " [-5.15909140e-02  6.71628861e+01]\n",
      " [ 2.41430352e-01  4.55839327e+01]\n",
      " [ 6.82632460e-01 -1.99598191e+00]\n",
      " [ 1.31055624e+00 -9.13347611e+01]\n",
      " [ 2.07393467e+00 -2.01211713e+02]\n",
      " [ 2.67908331e+00 -2.49225354e+02]\n",
      " [ 2.80781219e+00 -2.50649693e+02]\n",
      " [ 2.78667062e+00 -2.50684196e+02]\n",
      " [ 2.79140837e+00 -2.50685960e+02]\n",
      " [ 2.79039042e+00 -2.50686041e+02]\n",
      " [ 2.79061127e+00 -2.50686045e+02]]\n"
     ]
    },
    {
     "data": {
      "image/png": "[encoded data removed]",
      "text/plain": [
       "<Figure size 432x288 with 1 Axes>"
      ]
     },
     "metadata": {
      "needs_background": "light"
     },
     "output_type": "display_data"
    }
   ],
   "source": [
    "draw_process(-0.5, try_times = 15)"
   ]
  },
  {
   "cell_type": "markdown",
   "metadata": {},
   "source": [
    "### 以上圖形在初始x = -0.5 時找到global minimum"
   ]
  },
  {
   "cell_type": "code",
   "execution_count": 21,
   "metadata": {},
   "outputs": [
    {
     "name": "stdout",
     "output_type": "stream",
     "text": [
      "starting from x =  4\n",
      "\n",
      "(x, y) positions are: \n",
      "\n",
      "[[   4.            0.        ]\n",
      " [   1.6        -135.4752    ]\n",
      " [   2.35264    -230.39203784]\n",
      " [   2.78261816 -250.67836775]\n",
      " [   2.79225907 -250.68569891]\n",
      " [   2.79020497 -250.68602898]]\n"
     ]
    },
    {
     "data": {
      "image/png": "[encoded data removed]",
      "text/plain": [
       "<Figure size 432x288 with 1 Axes>"
      ]
     },
     "metadata": {
      "needs_background": "light"
     },
     "output_type": "display_data"
    }
   ],
   "source": [
    "draw_process(4, try_times = 6)"
   ]
  },
  {
   "cell_type": "markdown",
   "metadata": {},
   "source": [
    "### 以上圖形在初始x = -0.5 時找到global minimum(先跳到minimum左邊後再向右逼近)"
   ]
  },
  {
   "cell_type": "code",
   "execution_count": null,
   "metadata": {},
   "outputs": [],
   "source": []
  }
 ],
 "metadata": {
  "kernelspec": {
   "display_name": "Python 3",
   "language": "python",
   "name": "python3"
  },
  "language_info": {
   "codemirror_mode": {
    "name": "ipython",
    "version": 3
   },
   "file_extension": ".py",
   "mimetype": "text/x-python",
   "name": "python",
   "nbconvert_exporter": "python",
   "pygments_lexer": "ipython3",
   "version": "3.6.0"
  }
 },
 "nbformat": 4,
 "nbformat_minor": 2
}
