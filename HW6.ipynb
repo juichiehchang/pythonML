{
 "cells": [
  {
   "cell_type": "markdown",
   "metadata": {},
   "source": [
    "# 利用gradient descent 找出單一變數函數中的minimum"
   ]
  },
  {
   "cell_type": "markdown",
   "metadata": {},
   "source": [
    "## 1. 載入套件"
   ]
  },
  {
   "cell_type": "code",
   "execution_count": 97,
   "metadata": {},
   "outputs": [],
   "source": [
    "%matplotlib inline\n",
    "from ipywidgets import interact, fixed\n",
    "import numpy as np\n",
    "import matplotlib.pyplot as plt\n",
    "import math"
   ]
  },
  {
   "cell_type": "markdown",
   "metadata": {},
   "source": [
    "## 2. 產生函數 這邊假設 $f(x) = (x - 4)(3x - 2)(x + 2)(x + 4)$ 並畫出函數圖形"
   ]
  },
  {
   "cell_type": "code",
   "execution_count": 98,
   "metadata": {},
   "outputs": [
    {
     "data": {
      "image/png": "[encoded data removed]",
      "text/plain": [
       "<Figure size 432x288 with 1 Axes>"
      ]
     },
     "metadata": {
      "needs_background": "light"
     },
     "output_type": "display_data"
    }
   ],
   "source": [
    "x = np.linspace(-5, 5, 100)\n",
    "y = (x - 4) * (3*x - 2) * (x + 2) * (x + 4)\n",
    "\n",
    "plt.plot(x, y);\n",
    "plt.xlabel(\"x\");\n",
    "plt.ylabel(\"y\");\n",
    "plt.title(\"plot of f(x)\");"
   ]
  },
  {
   "cell_type": "markdown",
   "metadata": {},
   "source": [
    "## 3. 算出 $f'(x) = 12x^3 + 12x^2 - 104x - 64$ 並定義gradient descent 函式"
   ]
  },
  {
   "cell_type": "code",
   "execution_count": 99,
   "metadata": {},
   "outputs": [],
   "source": [
    "def gradient_descent(x, n):\n",
    "    x -= n * (12 * math.pow(x, 3) + 12 * math.pow(x, 2) - 104 * x - 64)\n",
    "    return x"
   ]
  },
  {
   "cell_type": "markdown",
   "metadata": {},
   "source": [
    "## 4. 定義find_min根據x初始值開始帶入gradient_descent 尋找minimum(learning rate =                    0.005)"
   ]
  },
  {
   "cell_type": "code",
   "execution_count": 100,
   "metadata": {},
   "outputs": [],
   "source": [
    "def find_min(start_x, try_times):\n",
    "    # history 紀錄過去嘗試過的x\n",
    "    history = []\n",
    "    # learning rate = 0.005\n",
    "    n = 0.005\n",
    "    \n",
    "    for i in range(0, try_times):\n",
    "        history += [start_x]\n",
    "        start_x = gradient_descent(start_x, n)\n",
    "        \n",
    "    return history"
   ]
  },
  {
   "cell_type": "markdown",
   "metadata": {},
   "source": [
    "## 5. 隨機生成x初始值，帶入draw_process看出gradient_descent的過程與結果"
   ]
  },
  {
   "cell_type": "code",
   "execution_count": 114,
   "metadata": {},
   "outputs": [
    {
     "data": {
      "application/vnd.jupyter.widget-view+json": {
       "model_id": "73acfb2d4af14c7aa42d12f388317ddf",
       "version_major": 2,
       "version_minor": 0
      },
      "text/plain": [
       "interactive(children=(IntSlider(value=5, description='try_times', max=20, min=1), Output()), _dom_classes=('wi…"
      ]
     },
     "metadata": {},
     "output_type": "display_data"
    },
    {
     "data": {
      "text/plain": [
       "<function __main__.draw_process(start_x, try_times=5)>"
      ]
     },
     "execution_count": 114,
     "metadata": {},
     "output_type": "execute_result"
    }
   ],
   "source": [
    "start_x = np.random.uniform(-5, 5)\n",
    "\n",
    "def draw_process(start_x, try_times = 5):\n",
    "    print(\"starting from x = \", start_x)\n",
    "    # 先畫出函數圖形\n",
    "    plt.plot(x, y, c = 'b');\n",
    "    plt.xlabel(\"x\");\n",
    "    plt.ylabel(\"y\");\n",
    "    plt.title(\"plot of f(x)\");\n",
    "    \n",
    "    # 印出gradient descent中各個點的座標\n",
    "    X = np.array(find_min(start_x, try_times))\n",
    "    Y = (X - 4) * (3*X - 2) * (X + 2) * (X + 4)\n",
    "    print(\"\\n(x, y) positions are: \\n\")\n",
    "    print(np.c_[X, Y])\n",
    "    \n",
    "    # 畫出gradient descent中的各個點(由淺到深)\n",
    "    alphas = np.linspace(0, 1, len(X))\n",
    "    rgba_colors = np.zeros((len(X),4))\n",
    "    rgba_colors[:, 0] = 1.0\n",
    "    rgba_colors[:, 3] = alphas\n",
    "    plt.scatter(X, Y, color = rgba_colors);\n",
    "    \n",
    "    # 以十字標示出local min的點\n",
    "    plt.axvline(x=X[len(X) - 1], c = 'r')\n",
    "    plt.axhline(y=Y[len(X) - 1], c = 'r')\n",
    "\n",
    "# 使用interact 決定gradient descent計算次數\n",
    "interact(draw_process, start_x = fixed(start_x), try_times = (1, 20))"
   ]
  },
  {
   "cell_type": "code",
   "execution_count": null,
   "metadata": {},
   "outputs": [],
   "source": []
  }
 ],
 "metadata": {
  "kernelspec": {
   "display_name": "Python 3",
   "language": "python",
   "name": "python3"
  },
  "language_info": {
   "codemirror_mode": {
    "name": "ipython",
    "version": 3
   },
   "file_extension": ".py",
   "mimetype": "text/x-python",
   "name": "python",
   "nbconvert_exporter": "python",
   "pygments_lexer": "ipython3",
   "version": "3.6.0"
  }
 },
 "nbformat": 4,
 "nbformat_minor": 2
}
